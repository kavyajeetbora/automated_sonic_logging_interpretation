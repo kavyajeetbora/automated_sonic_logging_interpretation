{
 "cells": [
  {
   "cell_type": "code",
   "execution_count": 12,
   "id": "455a7973",
   "metadata": {},
   "outputs": [],
   "source": [
    "import pandas as pd\n",
    "import numpy as np\n",
    "import matplotlib.pyplot as plt\n",
    "from glob import glob\n",
    "import plotly.graph_objects as go\n",
    "from scipy import signal\n",
    "from sklearn.preprocessing import MinMaxScaler"
   ]
  },
  {
   "cell_type": "markdown",
   "id": "5f344d91",
   "metadata": {},
   "source": [
    "## FAT (First time arrival) of sonic logging\n",
    "\n",
    "**Objective:** To find the FAT (First Time arrival) peak of the sonic logging reading of borehole no. B3 in Malmoe in Sweden.\n",
    "\n",
    "The borehole is about 39m deep, and sonic data are recorded for every depth step of 0.02m. The probe has 1 emitter and 3 receivers. The distances between the receivers and the emitter is 600mm, 800mm and 1000mm, and output from this tool is an SG2 file for each of the 3 receivers.\n",
    "\n",
    "The length of the trace for each depth is 2044 µs in this case, and signed integer values for the measured amplitude is recorded for each 4 µs.\n",
    "\n",
    "\n",
    "Example of sonic logging in borehole:\n",
    "\n",
    "![](https://support.onscale.com/hc/article_attachments/360003500177/3D_view.png)\n",
    "\n",
    "\n",
    "**References:**\n",
    "\n",
    "[Indirect determination of shear wave velocity in slow formations using fullwave sonic logging technique](https://www.sciencedirect.com/science/article/pii/S1674775520301360#mmc2) as published in ScienceDirect Journal.\n",
    "\n",
    "\n"
   ]
  },
  {
   "cell_type": "code",
   "execution_count": 13,
   "id": "1065e709",
   "metadata": {},
   "outputs": [
    {
     "name": "stdout",
     "output_type": "stream",
     "text": [
      "(1750, 472)\n",
      "<class 'pandas.core.frame.DataFrame'>\n",
      "RangeIndex: 1750 entries, 0 to 1749\n",
      "Columns: 472 entries, Depth to 2044\n",
      "dtypes: float64(1), int64(471)\n",
      "memory usage: 6.3 MB\n"
     ]
    }
   ],
   "source": [
    "folder = \"C:\\\\Users\\\\kvba\\\\OneDrive - Ramboll\\\\Projects\\\\Geotechnical and geophysics\\\\Interpretation of sonic logging reading\\\\data\\\\Raw data\\\\\"\n",
    "files = glob(folder+\"*.csv\")\n",
    "\n",
    "# for file in files:\n",
    "#     print(file)\n",
    "data = pd.read_csv(folder+\"600mm.csv\")\n",
    "data = data.drop(columns=data.columns[1:42])\n",
    "print(data.shape)\n",
    "data.info()"
   ]
  },
  {
   "cell_type": "code",
   "execution_count": 41,
   "id": "bf4b64b1",
   "metadata": {},
   "outputs": [],
   "source": [
    "def plot_graph(df, df_results, FAT_value=None):\n",
    "    fig = go.Figure()\n",
    "\n",
    "#     fig.add_trace(go.Scatter(\n",
    "#         x=df.Time,\n",
    "#         y=df[\"abs\"],\n",
    "#         mode=\"lines\",\n",
    "#         name=\"abs(signal)\",\n",
    "#         opacity=0.6\n",
    "#     ))\n",
    "\n",
    "    fig.add_trace(go.Scatter(\n",
    "        x=df.Time,\n",
    "        y=df[\"value\"],\n",
    "        mode=\"lines\",\n",
    "        name=\"signal\",\n",
    "        opacity=0.4\n",
    "    ))\n",
    "\n",
    "\n",
    "    fig.add_trace(go.Scatter(\n",
    "        x=df_results['Time'],\n",
    "        y=df_results[\"value\"],\n",
    "        mode=\"markers\",\n",
    "        name=\"peak envelope\",\n",
    "        marker = dict(\n",
    "            color=\"red\"\n",
    "        )\n",
    "    ))\n",
    "    if FAT_value is not None:\n",
    "        fig.add_trace(go.Scatter(\n",
    "            x=[FAT_value[0]],\n",
    "            y=[FAT_value[1]],\n",
    "            mode=\"markers\",\n",
    "            name=\"FAT value\",\n",
    "            marker = dict(\n",
    "                color=\"green\"\n",
    "            )\n",
    "        ))\n",
    "    \n",
    "    \n",
    "    return fig"
   ]
  },
  {
   "cell_type": "code",
   "execution_count": 130,
   "id": "03c51760",
   "metadata": {},
   "outputs": [
    {
     "name": "stdout",
     "output_type": "stream",
     "text": [
      "row number: 249\n",
      "depth: 8.68\n"
     ]
    },
    {
     "data": {
      "application/vnd.plotly.v1+json": {
       "config": {
        "plotlyServerURL": "https://plot.ly"
       },
       "data": [
        {
         "mode": "lines",
         "name": "signal",
         "opacity": 0.4,
         "type": "scatter",
         "x": [
          164,
          168,
          172,
          176,
          180,
          184,
          188,
          192,
          196,
          200,
          204,
          208,
          212,
          216,
          220,
          224,
          228,
          232,
          236,
          240,
          244,
          248,
          252,
          256,
          260,
          264,
          268,
          272,
          276,
          280,
          284,
          288,
          292,
          296,
          300,
          304,
          308,
          312,
          316,
          320,
          324,
          328,
          332,
          336,
          340,
          344,
          348,
          352,
          356,
          360,
          364,
          368,
          372,
          376,
          380,
          384,
          388,
          392,
          396,
          400,
          404,
          408,
          412,
          416,
          420,
          424,
          428,
          432,
          436,
          440,
          444,
          448,
          452,
          456,
          460,
          464,
          468,
          472,
          476,
          480,
          484,
          488,
          492,
          496,
          500,
          504,
          508,
          512,
          516,
          520,
          524,
          528,
          532,
          536,
          540,
          544,
          548,
          552,
          556,
          560,
          564,
          568,
          572,
          576,
          580,
          584,
          588,
          592,
          596,
          600,
          604,
          608,
          612,
          616,
          620,
          624,
          628,
          632,
          636,
          640,
          644,
          648,
          652,
          656,
          660,
          664,
          668,
          672,
          676,
          680,
          684,
          688,
          692,
          696,
          700,
          704,
          708,
          712,
          716,
          720,
          724,
          728,
          732,
          736,
          740,
          744,
          748,
          752,
          756,
          760,
          764,
          768,
          772,
          776,
          780,
          784,
          788,
          792,
          796,
          800,
          804,
          808,
          812,
          816,
          820,
          824,
          828,
          832,
          836,
          840,
          844,
          848,
          852,
          856,
          860,
          864,
          868,
          872,
          876,
          880,
          884,
          888,
          892,
          896,
          900,
          904,
          908,
          912,
          916,
          920,
          924,
          928,
          932,
          936,
          940,
          944,
          948,
          952,
          956,
          960,
          964,
          968,
          972,
          976,
          980,
          984,
          988,
          992,
          996,
          1000,
          1004,
          1008,
          1012,
          1016,
          1020,
          1024,
          1028,
          1032,
          1036,
          1040,
          1044,
          1048,
          1052,
          1056,
          1060,
          1064,
          1068,
          1072,
          1076,
          1080,
          1084,
          1088,
          1092,
          1096,
          1100,
          1104,
          1108,
          1112,
          1116,
          1120,
          1124,
          1128,
          1132,
          1136,
          1140,
          1144,
          1148,
          1152,
          1156,
          1160,
          1164,
          1168,
          1172,
          1176,
          1180,
          1184,
          1188,
          1192,
          1196,
          1200,
          1204,
          1208,
          1212,
          1216,
          1220,
          1224,
          1228,
          1232,
          1236,
          1240,
          1244,
          1248,
          1252,
          1256,
          1260,
          1264,
          1268,
          1272,
          1276,
          1280,
          1284,
          1288,
          1292,
          1296,
          1300,
          1304,
          1308,
          1312,
          1316,
          1320,
          1324,
          1328,
          1332,
          1336,
          1340,
          1344,
          1348,
          1352,
          1356,
          1360,
          1364,
          1368,
          1372,
          1376,
          1380,
          1384,
          1388,
          1392,
          1396,
          1400,
          1404,
          1408,
          1412,
          1416,
          1420,
          1424,
          1428,
          1432,
          1436,
          1440,
          1444,
          1448,
          1452,
          1456,
          1460,
          1464,
          1468,
          1472,
          1476,
          1480,
          1484,
          1488,
          1492,
          1496,
          1500,
          1504,
          1508,
          1512,
          1516,
          1520,
          1524,
          1528,
          1532,
          1536,
          1540,
          1544,
          1548,
          1552,
          1556,
          1560,
          1564,
          1568,
          1572,
          1576,
          1580,
          1584,
          1588,
          1592,
          1596,
          1600,
          1604,
          1608,
          1612,
          1616,
          1620,
          1624,
          1628,
          1632,
          1636,
          1640,
          1644,
          1648,
          1652,
          1656,
          1660,
          1664,
          1668,
          1672,
          1676,
          1680,
          1684,
          1688,
          1692,
          1696,
          1700,
          1704,
          1708,
          1712,
          1716,
          1720,
          1724,
          1728,
          1732,
          1736,
          1740,
          1744,
          1748,
          1752,
          1756,
          1760,
          1764,
          1768,
          1772,
          1776,
          1780,
          1784,
          1788,
          1792,
          1796,
          1800,
          1804,
          1808,
          1812,
          1816,
          1820,
          1824,
          1828,
          1832,
          1836,
          1840,
          1844,
          1848,
          1852,
          1856,
          1860,
          1864,
          1868,
          1872,
          1876,
          1880,
          1884,
          1888,
          1892,
          1896,
          1900,
          1904,
          1908,
          1912,
          1916,
          1920,
          1924,
          1928,
          1932,
          1936,
          1940,
          1944,
          1948,
          1952,
          1956,
          1960,
          1964,
          1968,
          1972,
          1976,
          1980,
          1984,
          1988,
          1992,
          1996,
          2000,
          2004,
          2008,
          2012,
          2016,
          2020,
          2024,
          2028,
          2032,
          2036,
          2040,
          2044
         ],
         "y": [
          -172,
          -167,
          -155,
          -131,
          -107,
          -69,
          -27,
          4,
          83,
          93,
          52,
          17,
          74,
          249,
          439,
          468,
          183,
          -338,
          -835,
          -981,
          -806,
          -491,
          -300,
          -243,
          197,
          1531,
          3274,
          4379,
          3900,
          1565,
          -2381,
          -7293,
          -11797,
          -14462,
          -14010,
          -9350,
          -409,
          11412,
          23482,
          32350,
          32767,
          30095,
          19029,
          1978,
          -17157,
          -30261,
          -32768,
          -32768,
          -32768,
          -32768,
          -30752,
          -23055,
          -14003,
          -3345,
          14225,
          32767,
          32767,
          32767,
          32767,
          32767,
          32767,
          32767,
          29919,
          850,
          -30170,
          -32768,
          -32768,
          -32768,
          -32768,
          -32768,
          -32768,
          -32768,
          -12969,
          10372,
          26856,
          32767,
          32767,
          32767,
          32767,
          32767,
          32767,
          8366,
          -19132,
          -32768,
          -32768,
          -32768,
          -32768,
          -32768,
          -32768,
          -13746,
          14157,
          32767,
          32767,
          32767,
          20531,
          -140,
          -14697,
          -32116,
          -32768,
          -32768,
          -32768,
          -6768,
          32767,
          32767,
          32767,
          32767,
          -4437,
          -32768,
          -32768,
          -27367,
          9059,
          32767,
          32767,
          29167,
          6942,
          -19374,
          -32768,
          -32768,
          -32768,
          -19376,
          14048,
          32767,
          32767,
          32767,
          8801,
          -27953,
          -32768,
          -32768,
          -13784,
          9945,
          17375,
          10294,
          3380,
          7568,
          21009,
          32767,
          31337,
          11709,
          -6604,
          -29410,
          -32768,
          -32768,
          -32768,
          -6942,
          32767,
          32767,
          32767,
          17447,
          -20731,
          -32768,
          -32768,
          -15255,
          -1163,
          10055,
          27434,
          32767,
          32767,
          27441,
          -9792,
          -32768,
          -32768,
          -29636,
          -13134,
          -5967,
          -4563,
          -787,
          5923,
          7573,
          -1393,
          -15768,
          -22890,
          -11437,
          16340,
          32767,
          32767,
          32767,
          14945,
          -8777,
          -32768,
          -32768,
          -32768,
          -32255,
          -10629,
          16309,
          32767,
          32767,
          32767,
          10513,
          -28736,
          -32768,
          -32768,
          -24812,
          -3499,
          27739,
          32767,
          32767,
          30885,
          5159,
          -28992,
          -32768,
          -32768,
          -32768,
          -15019,
          20362,
          32767,
          32767,
          29818,
          6479,
          -11296,
          -31109,
          -32768,
          -32768,
          -32768,
          -18067,
          23789,
          32767,
          32767,
          31144,
          9486,
          -21353,
          -32768,
          -32768,
          -30408,
          -644,
          32767,
          32767,
          32767,
          14208,
          -22625,
          -32768,
          -32768,
          -14398,
          17727,
          32767,
          32767,
          25864,
          -9107,
          -32768,
          -32768,
          -29228,
          -9780,
          -621,
          -4918,
          -14672,
          -19547,
          -5331,
          13378,
          31039,
          32767,
          32767,
          32767,
          17230,
          -23951,
          -32768,
          -32768,
          -32444,
          -13944,
          535,
          16342,
          32767,
          32767,
          32767,
          12661,
          -27816,
          -32768,
          -32768,
          -32768,
          -7382,
          16001,
          31847,
          32767,
          32767,
          20286,
          -9782,
          -32768,
          -32768,
          -32768,
          -8970,
          25620,
          32767,
          32767,
          16243,
          -12711,
          -32768,
          -32768,
          -32768,
          -18203,
          11570,
          32767,
          32767,
          32767,
          8223,
          -30991,
          -32768,
          -32768,
          -7563,
          29544,
          32767,
          32767,
          6806,
          -18083,
          -27984,
          -27891,
          -26337,
          -24599,
          -15628,
          5188,
          31262,
          32767,
          32767,
          14311,
          -13623,
          -27044,
          -19672,
          -190,
          18773,
          29445,
          28139,
          9705,
          -12296,
          -32768,
          -32768,
          -32768,
          -30251,
          -5838,
          17775,
          32767,
          32767,
          32767,
          24500,
          -11798,
          -32768,
          -32768,
          -31786,
          194,
          27606,
          29289,
          15154,
          363,
          -24042,
          -32768,
          -32768,
          -20891,
          5016,
          32767,
          32767,
          32767,
          21103,
          -13998,
          -32768,
          -26906,
          -4542,
          14696,
          15539,
          -1477,
          -23561,
          -32768,
          -32768,
          -23203,
          -624,
          17012,
          32767,
          32767,
          32767,
          30417,
          -7351,
          -32768,
          -32768,
          -30317,
          -10986,
          -1609,
          -1355,
          -375,
          5268,
          8558,
          2372,
          -10972,
          -22255,
          -17984,
          1340,
          30999,
          32767,
          32767,
          32767,
          5884,
          -25101,
          -32768,
          -32768,
          -32768,
          -32230,
          814,
          32767,
          32767,
          32767,
          22931,
          -11469,
          -32768,
          -32768,
          -32768,
          -12117,
          13574,
          32767,
          32767,
          32767,
          17966,
          -10505,
          -32768,
          -32768,
          -32768,
          -17711,
          3373,
          27835,
          32767,
          32767,
          32767,
          11866,
          -24258,
          -32768,
          -32768,
          -32768,
          -2416,
          23461,
          29482,
          14626,
          -7882,
          -25198,
          -30668,
          -21628,
          -151,
          26330,
          32767,
          32767,
          32767,
          3671,
          -25061,
          -32768,
          -32768,
          -21176,
          -1420,
          18673,
          32729,
          32085,
          12447,
          -6562,
          -31067,
          -32768,
          -32768,
          -32768,
          -12680,
          20428,
          32767,
          32767,
          32767,
          17850,
          -3823,
          -31299,
          -32768,
          -32768,
          -32768,
          -5153,
          30748,
          32767,
          32767,
          32767,
          11263,
          -11841,
          -32768,
          -32768,
          -32768,
          -30926,
          -7516
         ]
        },
        {
         "marker": {
          "color": "red"
         },
         "mode": "markers",
         "name": "peak envelope",
         "type": "scatter",
         "x": [
          200,
          208,
          224,
          240,
          272,
          296,
          324,
          360,
          384,
          448,
          464,
          516,
          528,
          564,
          572,
          596,
          608,
          636,
          648,
          672,
          684,
          692,
          704,
          732,
          740,
          764,
          784,
          804,
          832,
          844,
          856,
          884,
          900,
          924,
          940,
          968,
          980,
          1012,
          1024,
          1048,
          1060,
          1084,
          1096,
          1116,
          1128,
          1140,
          1156,
          1180,
          1200,
          1228,
          1244,
          1268,
          1280,
          1304,
          1316,
          1340,
          1352,
          1368,
          1396,
          1412,
          1428,
          1452,
          1468,
          1492,
          1508,
          1528,
          1540,
          1560,
          1576,
          1592,
          1608,
          1632,
          1660,
          1672,
          1688,
          1716,
          1728,
          1756,
          1768,
          1796,
          1812,
          1840,
          1852,
          1868,
          1884,
          1908,
          1924,
          1952,
          1964,
          1996,
          2008,
          2036
         ],
         "y": [
          93,
          17,
          468,
          -981,
          4379,
          -14462,
          32767,
          -32768,
          32767,
          -32768,
          32767,
          -32768,
          32767,
          -32768,
          32767,
          -32768,
          32767,
          -32768,
          32767,
          -32768,
          17375,
          3380,
          32767,
          -32768,
          32767,
          -32768,
          32767,
          -32768,
          7573,
          -22890,
          32767,
          -32768,
          32767,
          -32768,
          32767,
          -32768,
          32767,
          -32768,
          32767,
          -32768,
          32767,
          -32768,
          32767,
          -32768,
          -621,
          -19547,
          32767,
          -32768,
          32767,
          -32768,
          32767,
          -32768,
          32767,
          -32768,
          32767,
          -32768,
          32767,
          -27984,
          32767,
          -27044,
          29445,
          -32768,
          32767,
          -32768,
          29289,
          -32768,
          32767,
          -32768,
          15539,
          -32768,
          32767,
          -32768,
          8558,
          -22255,
          32767,
          -32768,
          32767,
          -32768,
          32767,
          -32768,
          32767,
          -32768,
          29482,
          -30668,
          32767,
          -32768,
          32729,
          -32768,
          32767,
          -32768,
          32767,
          -32768
         ]
        },
        {
         "marker": {
          "color": "green"
         },
         "mode": "markers",
         "name": "FAT value",
         "type": "scatter",
         "x": [
          240
         ],
         "y": [
          -981
         ]
        }
       ],
       "layout": {
        "template": {
         "data": {
          "bar": [
           {
            "error_x": {
             "color": "#2a3f5f"
            },
            "error_y": {
             "color": "#2a3f5f"
            },
            "marker": {
             "line": {
              "color": "#E5ECF6",
              "width": 0.5
             }
            },
            "type": "bar"
           }
          ],
          "barpolar": [
           {
            "marker": {
             "line": {
              "color": "#E5ECF6",
              "width": 0.5
             }
            },
            "type": "barpolar"
           }
          ],
          "carpet": [
           {
            "aaxis": {
             "endlinecolor": "#2a3f5f",
             "gridcolor": "white",
             "linecolor": "white",
             "minorgridcolor": "white",
             "startlinecolor": "#2a3f5f"
            },
            "baxis": {
             "endlinecolor": "#2a3f5f",
             "gridcolor": "white",
             "linecolor": "white",
             "minorgridcolor": "white",
             "startlinecolor": "#2a3f5f"
            },
            "type": "carpet"
           }
          ],
          "choropleth": [
           {
            "colorbar": {
             "outlinewidth": 0,
             "ticks": ""
            },
            "type": "choropleth"
           }
          ],
          "contour": [
           {
            "colorbar": {
             "outlinewidth": 0,
             "ticks": ""
            },
            "colorscale": [
             [
              0,
              "#0d0887"
             ],
             [
              0.1111111111111111,
              "#46039f"
             ],
             [
              0.2222222222222222,
              "#7201a8"
             ],
             [
              0.3333333333333333,
              "#9c179e"
             ],
             [
              0.4444444444444444,
              "#bd3786"
             ],
             [
              0.5555555555555556,
              "#d8576b"
             ],
             [
              0.6666666666666666,
              "#ed7953"
             ],
             [
              0.7777777777777778,
              "#fb9f3a"
             ],
             [
              0.8888888888888888,
              "#fdca26"
             ],
             [
              1,
              "#f0f921"
             ]
            ],
            "type": "contour"
           }
          ],
          "contourcarpet": [
           {
            "colorbar": {
             "outlinewidth": 0,
             "ticks": ""
            },
            "type": "contourcarpet"
           }
          ],
          "heatmap": [
           {
            "colorbar": {
             "outlinewidth": 0,
             "ticks": ""
            },
            "colorscale": [
             [
              0,
              "#0d0887"
             ],
             [
              0.1111111111111111,
              "#46039f"
             ],
             [
              0.2222222222222222,
              "#7201a8"
             ],
             [
              0.3333333333333333,
              "#9c179e"
             ],
             [
              0.4444444444444444,
              "#bd3786"
             ],
             [
              0.5555555555555556,
              "#d8576b"
             ],
             [
              0.6666666666666666,
              "#ed7953"
             ],
             [
              0.7777777777777778,
              "#fb9f3a"
             ],
             [
              0.8888888888888888,
              "#fdca26"
             ],
             [
              1,
              "#f0f921"
             ]
            ],
            "type": "heatmap"
           }
          ],
          "heatmapgl": [
           {
            "colorbar": {
             "outlinewidth": 0,
             "ticks": ""
            },
            "colorscale": [
             [
              0,
              "#0d0887"
             ],
             [
              0.1111111111111111,
              "#46039f"
             ],
             [
              0.2222222222222222,
              "#7201a8"
             ],
             [
              0.3333333333333333,
              "#9c179e"
             ],
             [
              0.4444444444444444,
              "#bd3786"
             ],
             [
              0.5555555555555556,
              "#d8576b"
             ],
             [
              0.6666666666666666,
              "#ed7953"
             ],
             [
              0.7777777777777778,
              "#fb9f3a"
             ],
             [
              0.8888888888888888,
              "#fdca26"
             ],
             [
              1,
              "#f0f921"
             ]
            ],
            "type": "heatmapgl"
           }
          ],
          "histogram": [
           {
            "marker": {
             "colorbar": {
              "outlinewidth": 0,
              "ticks": ""
             }
            },
            "type": "histogram"
           }
          ],
          "histogram2d": [
           {
            "colorbar": {
             "outlinewidth": 0,
             "ticks": ""
            },
            "colorscale": [
             [
              0,
              "#0d0887"
             ],
             [
              0.1111111111111111,
              "#46039f"
             ],
             [
              0.2222222222222222,
              "#7201a8"
             ],
             [
              0.3333333333333333,
              "#9c179e"
             ],
             [
              0.4444444444444444,
              "#bd3786"
             ],
             [
              0.5555555555555556,
              "#d8576b"
             ],
             [
              0.6666666666666666,
              "#ed7953"
             ],
             [
              0.7777777777777778,
              "#fb9f3a"
             ],
             [
              0.8888888888888888,
              "#fdca26"
             ],
             [
              1,
              "#f0f921"
             ]
            ],
            "type": "histogram2d"
           }
          ],
          "histogram2dcontour": [
           {
            "colorbar": {
             "outlinewidth": 0,
             "ticks": ""
            },
            "colorscale": [
             [
              0,
              "#0d0887"
             ],
             [
              0.1111111111111111,
              "#46039f"
             ],
             [
              0.2222222222222222,
              "#7201a8"
             ],
             [
              0.3333333333333333,
              "#9c179e"
             ],
             [
              0.4444444444444444,
              "#bd3786"
             ],
             [
              0.5555555555555556,
              "#d8576b"
             ],
             [
              0.6666666666666666,
              "#ed7953"
             ],
             [
              0.7777777777777778,
              "#fb9f3a"
             ],
             [
              0.8888888888888888,
              "#fdca26"
             ],
             [
              1,
              "#f0f921"
             ]
            ],
            "type": "histogram2dcontour"
           }
          ],
          "mesh3d": [
           {
            "colorbar": {
             "outlinewidth": 0,
             "ticks": ""
            },
            "type": "mesh3d"
           }
          ],
          "parcoords": [
           {
            "line": {
             "colorbar": {
              "outlinewidth": 0,
              "ticks": ""
             }
            },
            "type": "parcoords"
           }
          ],
          "pie": [
           {
            "automargin": true,
            "type": "pie"
           }
          ],
          "scatter": [
           {
            "marker": {
             "colorbar": {
              "outlinewidth": 0,
              "ticks": ""
             }
            },
            "type": "scatter"
           }
          ],
          "scatter3d": [
           {
            "line": {
             "colorbar": {
              "outlinewidth": 0,
              "ticks": ""
             }
            },
            "marker": {
             "colorbar": {
              "outlinewidth": 0,
              "ticks": ""
             }
            },
            "type": "scatter3d"
           }
          ],
          "scattercarpet": [
           {
            "marker": {
             "colorbar": {
              "outlinewidth": 0,
              "ticks": ""
             }
            },
            "type": "scattercarpet"
           }
          ],
          "scattergeo": [
           {
            "marker": {
             "colorbar": {
              "outlinewidth": 0,
              "ticks": ""
             }
            },
            "type": "scattergeo"
           }
          ],
          "scattergl": [
           {
            "marker": {
             "colorbar": {
              "outlinewidth": 0,
              "ticks": ""
             }
            },
            "type": "scattergl"
           }
          ],
          "scattermapbox": [
           {
            "marker": {
             "colorbar": {
              "outlinewidth": 0,
              "ticks": ""
             }
            },
            "type": "scattermapbox"
           }
          ],
          "scatterpolar": [
           {
            "marker": {
             "colorbar": {
              "outlinewidth": 0,
              "ticks": ""
             }
            },
            "type": "scatterpolar"
           }
          ],
          "scatterpolargl": [
           {
            "marker": {
             "colorbar": {
              "outlinewidth": 0,
              "ticks": ""
             }
            },
            "type": "scatterpolargl"
           }
          ],
          "scatterternary": [
           {
            "marker": {
             "colorbar": {
              "outlinewidth": 0,
              "ticks": ""
             }
            },
            "type": "scatterternary"
           }
          ],
          "surface": [
           {
            "colorbar": {
             "outlinewidth": 0,
             "ticks": ""
            },
            "colorscale": [
             [
              0,
              "#0d0887"
             ],
             [
              0.1111111111111111,
              "#46039f"
             ],
             [
              0.2222222222222222,
              "#7201a8"
             ],
             [
              0.3333333333333333,
              "#9c179e"
             ],
             [
              0.4444444444444444,
              "#bd3786"
             ],
             [
              0.5555555555555556,
              "#d8576b"
             ],
             [
              0.6666666666666666,
              "#ed7953"
             ],
             [
              0.7777777777777778,
              "#fb9f3a"
             ],
             [
              0.8888888888888888,
              "#fdca26"
             ],
             [
              1,
              "#f0f921"
             ]
            ],
            "type": "surface"
           }
          ],
          "table": [
           {
            "cells": {
             "fill": {
              "color": "#EBF0F8"
             },
             "line": {
              "color": "white"
             }
            },
            "header": {
             "fill": {
              "color": "#C8D4E3"
             },
             "line": {
              "color": "white"
             }
            },
            "type": "table"
           }
          ]
         },
         "layout": {
          "annotationdefaults": {
           "arrowcolor": "#2a3f5f",
           "arrowhead": 0,
           "arrowwidth": 1
          },
          "autotypenumbers": "strict",
          "coloraxis": {
           "colorbar": {
            "outlinewidth": 0,
            "ticks": ""
           }
          },
          "colorscale": {
           "diverging": [
            [
             0,
             "#8e0152"
            ],
            [
             0.1,
             "#c51b7d"
            ],
            [
             0.2,
             "#de77ae"
            ],
            [
             0.3,
             "#f1b6da"
            ],
            [
             0.4,
             "#fde0ef"
            ],
            [
             0.5,
             "#f7f7f7"
            ],
            [
             0.6,
             "#e6f5d0"
            ],
            [
             0.7,
             "#b8e186"
            ],
            [
             0.8,
             "#7fbc41"
            ],
            [
             0.9,
             "#4d9221"
            ],
            [
             1,
             "#276419"
            ]
           ],
           "sequential": [
            [
             0,
             "#0d0887"
            ],
            [
             0.1111111111111111,
             "#46039f"
            ],
            [
             0.2222222222222222,
             "#7201a8"
            ],
            [
             0.3333333333333333,
             "#9c179e"
            ],
            [
             0.4444444444444444,
             "#bd3786"
            ],
            [
             0.5555555555555556,
             "#d8576b"
            ],
            [
             0.6666666666666666,
             "#ed7953"
            ],
            [
             0.7777777777777778,
             "#fb9f3a"
            ],
            [
             0.8888888888888888,
             "#fdca26"
            ],
            [
             1,
             "#f0f921"
            ]
           ],
           "sequentialminus": [
            [
             0,
             "#0d0887"
            ],
            [
             0.1111111111111111,
             "#46039f"
            ],
            [
             0.2222222222222222,
             "#7201a8"
            ],
            [
             0.3333333333333333,
             "#9c179e"
            ],
            [
             0.4444444444444444,
             "#bd3786"
            ],
            [
             0.5555555555555556,
             "#d8576b"
            ],
            [
             0.6666666666666666,
             "#ed7953"
            ],
            [
             0.7777777777777778,
             "#fb9f3a"
            ],
            [
             0.8888888888888888,
             "#fdca26"
            ],
            [
             1,
             "#f0f921"
            ]
           ]
          },
          "colorway": [
           "#636efa",
           "#EF553B",
           "#00cc96",
           "#ab63fa",
           "#FFA15A",
           "#19d3f3",
           "#FF6692",
           "#B6E880",
           "#FF97FF",
           "#FECB52"
          ],
          "font": {
           "color": "#2a3f5f"
          },
          "geo": {
           "bgcolor": "white",
           "lakecolor": "white",
           "landcolor": "#E5ECF6",
           "showlakes": true,
           "showland": true,
           "subunitcolor": "white"
          },
          "hoverlabel": {
           "align": "left"
          },
          "hovermode": "closest",
          "mapbox": {
           "style": "light"
          },
          "paper_bgcolor": "white",
          "plot_bgcolor": "#E5ECF6",
          "polar": {
           "angularaxis": {
            "gridcolor": "white",
            "linecolor": "white",
            "ticks": ""
           },
           "bgcolor": "#E5ECF6",
           "radialaxis": {
            "gridcolor": "white",
            "linecolor": "white",
            "ticks": ""
           }
          },
          "scene": {
           "xaxis": {
            "backgroundcolor": "#E5ECF6",
            "gridcolor": "white",
            "gridwidth": 2,
            "linecolor": "white",
            "showbackground": true,
            "ticks": "",
            "zerolinecolor": "white"
           },
           "yaxis": {
            "backgroundcolor": "#E5ECF6",
            "gridcolor": "white",
            "gridwidth": 2,
            "linecolor": "white",
            "showbackground": true,
            "ticks": "",
            "zerolinecolor": "white"
           },
           "zaxis": {
            "backgroundcolor": "#E5ECF6",
            "gridcolor": "white",
            "gridwidth": 2,
            "linecolor": "white",
            "showbackground": true,
            "ticks": "",
            "zerolinecolor": "white"
           }
          },
          "shapedefaults": {
           "line": {
            "color": "#2a3f5f"
           }
          },
          "ternary": {
           "aaxis": {
            "gridcolor": "white",
            "linecolor": "white",
            "ticks": ""
           },
           "baxis": {
            "gridcolor": "white",
            "linecolor": "white",
            "ticks": ""
           },
           "bgcolor": "#E5ECF6",
           "caxis": {
            "gridcolor": "white",
            "linecolor": "white",
            "ticks": ""
           }
          },
          "title": {
           "x": 0.05
          },
          "xaxis": {
           "automargin": true,
           "gridcolor": "white",
           "linecolor": "white",
           "ticks": "",
           "title": {
            "standoff": 15
           },
           "zerolinecolor": "white",
           "zerolinewidth": 2
          },
          "yaxis": {
           "automargin": true,
           "gridcolor": "white",
           "linecolor": "white",
           "ticks": "",
           "title": {
            "standoff": 15
           },
           "zerolinecolor": "white",
           "zerolinewidth": 2
          }
         }
        }
       }
      },
      "text/html": [
       "<div>                            <div id=\"c983ae6a-5793-43a0-82a0-e6cf1fbef54e\" class=\"plotly-graph-div\" style=\"height:525px; width:100%;\"></div>            <script type=\"text/javascript\">                require([\"plotly\"], function(Plotly) {                    window.PLOTLYENV=window.PLOTLYENV || {};                                    if (document.getElementById(\"c983ae6a-5793-43a0-82a0-e6cf1fbef54e\")) {                    Plotly.newPlot(                        \"c983ae6a-5793-43a0-82a0-e6cf1fbef54e\",                        [{\"mode\": \"lines\", \"name\": \"signal\", \"opacity\": 0.4, \"type\": \"scatter\", \"x\": [164, 168, 172, 176, 180, 184, 188, 192, 196, 200, 204, 208, 212, 216, 220, 224, 228, 232, 236, 240, 244, 248, 252, 256, 260, 264, 268, 272, 276, 280, 284, 288, 292, 296, 300, 304, 308, 312, 316, 320, 324, 328, 332, 336, 340, 344, 348, 352, 356, 360, 364, 368, 372, 376, 380, 384, 388, 392, 396, 400, 404, 408, 412, 416, 420, 424, 428, 432, 436, 440, 444, 448, 452, 456, 460, 464, 468, 472, 476, 480, 484, 488, 492, 496, 500, 504, 508, 512, 516, 520, 524, 528, 532, 536, 540, 544, 548, 552, 556, 560, 564, 568, 572, 576, 580, 584, 588, 592, 596, 600, 604, 608, 612, 616, 620, 624, 628, 632, 636, 640, 644, 648, 652, 656, 660, 664, 668, 672, 676, 680, 684, 688, 692, 696, 700, 704, 708, 712, 716, 720, 724, 728, 732, 736, 740, 744, 748, 752, 756, 760, 764, 768, 772, 776, 780, 784, 788, 792, 796, 800, 804, 808, 812, 816, 820, 824, 828, 832, 836, 840, 844, 848, 852, 856, 860, 864, 868, 872, 876, 880, 884, 888, 892, 896, 900, 904, 908, 912, 916, 920, 924, 928, 932, 936, 940, 944, 948, 952, 956, 960, 964, 968, 972, 976, 980, 984, 988, 992, 996, 1000, 1004, 1008, 1012, 1016, 1020, 1024, 1028, 1032, 1036, 1040, 1044, 1048, 1052, 1056, 1060, 1064, 1068, 1072, 1076, 1080, 1084, 1088, 1092, 1096, 1100, 1104, 1108, 1112, 1116, 1120, 1124, 1128, 1132, 1136, 1140, 1144, 1148, 1152, 1156, 1160, 1164, 1168, 1172, 1176, 1180, 1184, 1188, 1192, 1196, 1200, 1204, 1208, 1212, 1216, 1220, 1224, 1228, 1232, 1236, 1240, 1244, 1248, 1252, 1256, 1260, 1264, 1268, 1272, 1276, 1280, 1284, 1288, 1292, 1296, 1300, 1304, 1308, 1312, 1316, 1320, 1324, 1328, 1332, 1336, 1340, 1344, 1348, 1352, 1356, 1360, 1364, 1368, 1372, 1376, 1380, 1384, 1388, 1392, 1396, 1400, 1404, 1408, 1412, 1416, 1420, 1424, 1428, 1432, 1436, 1440, 1444, 1448, 1452, 1456, 1460, 1464, 1468, 1472, 1476, 1480, 1484, 1488, 1492, 1496, 1500, 1504, 1508, 1512, 1516, 1520, 1524, 1528, 1532, 1536, 1540, 1544, 1548, 1552, 1556, 1560, 1564, 1568, 1572, 1576, 1580, 1584, 1588, 1592, 1596, 1600, 1604, 1608, 1612, 1616, 1620, 1624, 1628, 1632, 1636, 1640, 1644, 1648, 1652, 1656, 1660, 1664, 1668, 1672, 1676, 1680, 1684, 1688, 1692, 1696, 1700, 1704, 1708, 1712, 1716, 1720, 1724, 1728, 1732, 1736, 1740, 1744, 1748, 1752, 1756, 1760, 1764, 1768, 1772, 1776, 1780, 1784, 1788, 1792, 1796, 1800, 1804, 1808, 1812, 1816, 1820, 1824, 1828, 1832, 1836, 1840, 1844, 1848, 1852, 1856, 1860, 1864, 1868, 1872, 1876, 1880, 1884, 1888, 1892, 1896, 1900, 1904, 1908, 1912, 1916, 1920, 1924, 1928, 1932, 1936, 1940, 1944, 1948, 1952, 1956, 1960, 1964, 1968, 1972, 1976, 1980, 1984, 1988, 1992, 1996, 2000, 2004, 2008, 2012, 2016, 2020, 2024, 2028, 2032, 2036, 2040, 2044], \"y\": [-172.0, -167.0, -155.0, -131.0, -107.0, -69.0, -27.0, 4.0, 83.0, 93.0, 52.0, 17.0, 74.0, 249.0, 439.0, 468.0, 183.0, -338.0, -835.0, -981.0, -806.0, -491.0, -300.0, -243.0, 197.0, 1531.0, 3274.0, 4379.0, 3900.0, 1565.0, -2381.0, -7293.0, -11797.0, -14462.0, -14010.0, -9350.0, -409.0, 11412.0, 23482.0, 32350.0, 32767.0, 30095.0, 19029.0, 1978.0, -17157.0, -30261.0, -32768.0, -32768.0, -32768.0, -32768.0, -30752.0, -23055.0, -14003.0, -3345.0, 14225.0, 32767.0, 32767.0, 32767.0, 32767.0, 32767.0, 32767.0, 32767.0, 29919.0, 850.0, -30170.0, -32768.0, -32768.0, -32768.0, -32768.0, -32768.0, -32768.0, -32768.0, -12969.0, 10372.0, 26856.0, 32767.0, 32767.0, 32767.0, 32767.0, 32767.0, 32767.0, 8366.0, -19132.0, -32768.0, -32768.0, -32768.0, -32768.0, -32768.0, -32768.0, -13746.0, 14157.0, 32767.0, 32767.0, 32767.0, 20531.0, -140.0, -14697.0, -32116.0, -32768.0, -32768.0, -32768.0, -6768.0, 32767.0, 32767.0, 32767.0, 32767.0, -4437.0, -32768.0, -32768.0, -27367.0, 9059.0, 32767.0, 32767.0, 29167.0, 6942.0, -19374.0, -32768.0, -32768.0, -32768.0, -19376.0, 14048.0, 32767.0, 32767.0, 32767.0, 8801.0, -27953.0, -32768.0, -32768.0, -13784.0, 9945.0, 17375.0, 10294.0, 3380.0, 7568.0, 21009.0, 32767.0, 31337.0, 11709.0, -6604.0, -29410.0, -32768.0, -32768.0, -32768.0, -6942.0, 32767.0, 32767.0, 32767.0, 17447.0, -20731.0, -32768.0, -32768.0, -15255.0, -1163.0, 10055.0, 27434.0, 32767.0, 32767.0, 27441.0, -9792.0, -32768.0, -32768.0, -29636.0, -13134.0, -5967.0, -4563.0, -787.0, 5923.0, 7573.0, -1393.0, -15768.0, -22890.0, -11437.0, 16340.0, 32767.0, 32767.0, 32767.0, 14945.0, -8777.0, -32768.0, -32768.0, -32768.0, -32255.0, -10629.0, 16309.0, 32767.0, 32767.0, 32767.0, 10513.0, -28736.0, -32768.0, -32768.0, -24812.0, -3499.0, 27739.0, 32767.0, 32767.0, 30885.0, 5159.0, -28992.0, -32768.0, -32768.0, -32768.0, -15019.0, 20362.0, 32767.0, 32767.0, 29818.0, 6479.0, -11296.0, -31109.0, -32768.0, -32768.0, -32768.0, -18067.0, 23789.0, 32767.0, 32767.0, 31144.0, 9486.0, -21353.0, -32768.0, -32768.0, -30408.0, -644.0, 32767.0, 32767.0, 32767.0, 14208.0, -22625.0, -32768.0, -32768.0, -14398.0, 17727.0, 32767.0, 32767.0, 25864.0, -9107.0, -32768.0, -32768.0, -29228.0, -9780.0, -621.0, -4918.0, -14672.0, -19547.0, -5331.0, 13378.0, 31039.0, 32767.0, 32767.0, 32767.0, 17230.0, -23951.0, -32768.0, -32768.0, -32444.0, -13944.0, 535.0, 16342.0, 32767.0, 32767.0, 32767.0, 12661.0, -27816.0, -32768.0, -32768.0, -32768.0, -7382.0, 16001.0, 31847.0, 32767.0, 32767.0, 20286.0, -9782.0, -32768.0, -32768.0, -32768.0, -8970.0, 25620.0, 32767.0, 32767.0, 16243.0, -12711.0, -32768.0, -32768.0, -32768.0, -18203.0, 11570.0, 32767.0, 32767.0, 32767.0, 8223.0, -30991.0, -32768.0, -32768.0, -7563.0, 29544.0, 32767.0, 32767.0, 6806.0, -18083.0, -27984.0, -27891.0, -26337.0, -24599.0, -15628.0, 5188.0, 31262.0, 32767.0, 32767.0, 14311.0, -13623.0, -27044.0, -19672.0, -190.0, 18773.0, 29445.0, 28139.0, 9705.0, -12296.0, -32768.0, -32768.0, -32768.0, -30251.0, -5838.0, 17775.0, 32767.0, 32767.0, 32767.0, 24500.0, -11798.0, -32768.0, -32768.0, -31786.0, 194.0, 27606.0, 29289.0, 15154.0, 363.0, -24042.0, -32768.0, -32768.0, -20891.0, 5016.0, 32767.0, 32767.0, 32767.0, 21103.0, -13998.0, -32768.0, -26906.0, -4542.0, 14696.0, 15539.0, -1477.0, -23561.0, -32768.0, -32768.0, -23203.0, -624.0, 17012.0, 32767.0, 32767.0, 32767.0, 30417.0, -7351.0, -32768.0, -32768.0, -30317.0, -10986.0, -1609.0, -1355.0, -375.0, 5268.0, 8558.0, 2372.0, -10972.0, -22255.0, -17984.0, 1340.0, 30999.0, 32767.0, 32767.0, 32767.0, 5884.0, -25101.0, -32768.0, -32768.0, -32768.0, -32230.0, 814.0, 32767.0, 32767.0, 32767.0, 22931.0, -11469.0, -32768.0, -32768.0, -32768.0, -12117.0, 13574.0, 32767.0, 32767.0, 32767.0, 17966.0, -10505.0, -32768.0, -32768.0, -32768.0, -17711.0, 3373.0, 27835.0, 32767.0, 32767.0, 32767.0, 11866.0, -24258.0, -32768.0, -32768.0, -32768.0, -2416.0, 23461.0, 29482.0, 14626.0, -7882.0, -25198.0, -30668.0, -21628.0, -151.0, 26330.0, 32767.0, 32767.0, 32767.0, 3671.0, -25061.0, -32768.0, -32768.0, -21176.0, -1420.0, 18673.0, 32729.0, 32085.0, 12447.0, -6562.0, -31067.0, -32768.0, -32768.0, -32768.0, -12680.0, 20428.0, 32767.0, 32767.0, 32767.0, 17850.0, -3823.0, -31299.0, -32768.0, -32768.0, -32768.0, -5153.0, 30748.0, 32767.0, 32767.0, 32767.0, 11263.0, -11841.0, -32768.0, -32768.0, -32768.0, -30926.0, -7516.0]}, {\"marker\": {\"color\": \"red\"}, \"mode\": \"markers\", \"name\": \"peak envelope\", \"type\": \"scatter\", \"x\": [200, 208, 224, 240, 272, 296, 324, 360, 384, 448, 464, 516, 528, 564, 572, 596, 608, 636, 648, 672, 684, 692, 704, 732, 740, 764, 784, 804, 832, 844, 856, 884, 900, 924, 940, 968, 980, 1012, 1024, 1048, 1060, 1084, 1096, 1116, 1128, 1140, 1156, 1180, 1200, 1228, 1244, 1268, 1280, 1304, 1316, 1340, 1352, 1368, 1396, 1412, 1428, 1452, 1468, 1492, 1508, 1528, 1540, 1560, 1576, 1592, 1608, 1632, 1660, 1672, 1688, 1716, 1728, 1756, 1768, 1796, 1812, 1840, 1852, 1868, 1884, 1908, 1924, 1952, 1964, 1996, 2008, 2036], \"y\": [93.0, 17.0, 468.0, -981.0, 4379.0, -14462.0, 32767.0, -32768.0, 32767.0, -32768.0, 32767.0, -32768.0, 32767.0, -32768.0, 32767.0, -32768.0, 32767.0, -32768.0, 32767.0, -32768.0, 17375.0, 3380.0, 32767.0, -32768.0, 32767.0, -32768.0, 32767.0, -32768.0, 7573.0, -22890.0, 32767.0, -32768.0, 32767.0, -32768.0, 32767.0, -32768.0, 32767.0, -32768.0, 32767.0, -32768.0, 32767.0, -32768.0, 32767.0, -32768.0, -621.0, -19547.0, 32767.0, -32768.0, 32767.0, -32768.0, 32767.0, -32768.0, 32767.0, -32768.0, 32767.0, -32768.0, 32767.0, -27984.0, 32767.0, -27044.0, 29445.0, -32768.0, 32767.0, -32768.0, 29289.0, -32768.0, 32767.0, -32768.0, 15539.0, -32768.0, 32767.0, -32768.0, 8558.0, -22255.0, 32767.0, -32768.0, 32767.0, -32768.0, 32767.0, -32768.0, 32767.0, -32768.0, 29482.0, -30668.0, 32767.0, -32768.0, 32729.0, -32768.0, 32767.0, -32768.0, 32767.0, -32768.0]}, {\"marker\": {\"color\": \"green\"}, \"mode\": \"markers\", \"name\": \"FAT value\", \"type\": \"scatter\", \"x\": [240], \"y\": [-981.0]}],                        {\"template\": {\"data\": {\"bar\": [{\"error_x\": {\"color\": \"#2a3f5f\"}, \"error_y\": {\"color\": \"#2a3f5f\"}, \"marker\": {\"line\": {\"color\": \"#E5ECF6\", \"width\": 0.5}}, \"type\": \"bar\"}], \"barpolar\": [{\"marker\": {\"line\": {\"color\": \"#E5ECF6\", \"width\": 0.5}}, \"type\": \"barpolar\"}], \"carpet\": [{\"aaxis\": {\"endlinecolor\": \"#2a3f5f\", \"gridcolor\": \"white\", \"linecolor\": \"white\", \"minorgridcolor\": \"white\", \"startlinecolor\": \"#2a3f5f\"}, \"baxis\": {\"endlinecolor\": \"#2a3f5f\", \"gridcolor\": \"white\", \"linecolor\": \"white\", \"minorgridcolor\": \"white\", \"startlinecolor\": \"#2a3f5f\"}, \"type\": \"carpet\"}], \"choropleth\": [{\"colorbar\": {\"outlinewidth\": 0, \"ticks\": \"\"}, \"type\": \"choropleth\"}], \"contour\": [{\"colorbar\": {\"outlinewidth\": 0, \"ticks\": \"\"}, \"colorscale\": [[0.0, \"#0d0887\"], [0.1111111111111111, \"#46039f\"], [0.2222222222222222, \"#7201a8\"], [0.3333333333333333, \"#9c179e\"], [0.4444444444444444, \"#bd3786\"], [0.5555555555555556, \"#d8576b\"], [0.6666666666666666, \"#ed7953\"], [0.7777777777777778, \"#fb9f3a\"], [0.8888888888888888, \"#fdca26\"], [1.0, \"#f0f921\"]], \"type\": \"contour\"}], \"contourcarpet\": [{\"colorbar\": {\"outlinewidth\": 0, \"ticks\": \"\"}, \"type\": \"contourcarpet\"}], \"heatmap\": [{\"colorbar\": {\"outlinewidth\": 0, \"ticks\": \"\"}, \"colorscale\": [[0.0, \"#0d0887\"], [0.1111111111111111, \"#46039f\"], [0.2222222222222222, \"#7201a8\"], [0.3333333333333333, \"#9c179e\"], [0.4444444444444444, \"#bd3786\"], [0.5555555555555556, \"#d8576b\"], [0.6666666666666666, \"#ed7953\"], [0.7777777777777778, \"#fb9f3a\"], [0.8888888888888888, \"#fdca26\"], [1.0, \"#f0f921\"]], \"type\": \"heatmap\"}], \"heatmapgl\": [{\"colorbar\": {\"outlinewidth\": 0, \"ticks\": \"\"}, \"colorscale\": [[0.0, \"#0d0887\"], [0.1111111111111111, \"#46039f\"], [0.2222222222222222, \"#7201a8\"], [0.3333333333333333, \"#9c179e\"], [0.4444444444444444, \"#bd3786\"], [0.5555555555555556, \"#d8576b\"], [0.6666666666666666, \"#ed7953\"], [0.7777777777777778, \"#fb9f3a\"], [0.8888888888888888, \"#fdca26\"], [1.0, \"#f0f921\"]], \"type\": \"heatmapgl\"}], \"histogram\": [{\"marker\": {\"colorbar\": {\"outlinewidth\": 0, \"ticks\": \"\"}}, \"type\": \"histogram\"}], \"histogram2d\": [{\"colorbar\": {\"outlinewidth\": 0, \"ticks\": \"\"}, \"colorscale\": [[0.0, \"#0d0887\"], [0.1111111111111111, \"#46039f\"], [0.2222222222222222, \"#7201a8\"], [0.3333333333333333, \"#9c179e\"], [0.4444444444444444, \"#bd3786\"], [0.5555555555555556, \"#d8576b\"], [0.6666666666666666, \"#ed7953\"], [0.7777777777777778, \"#fb9f3a\"], [0.8888888888888888, \"#fdca26\"], [1.0, \"#f0f921\"]], \"type\": \"histogram2d\"}], \"histogram2dcontour\": [{\"colorbar\": {\"outlinewidth\": 0, \"ticks\": \"\"}, \"colorscale\": [[0.0, \"#0d0887\"], [0.1111111111111111, \"#46039f\"], [0.2222222222222222, \"#7201a8\"], [0.3333333333333333, \"#9c179e\"], [0.4444444444444444, \"#bd3786\"], [0.5555555555555556, \"#d8576b\"], [0.6666666666666666, \"#ed7953\"], [0.7777777777777778, \"#fb9f3a\"], [0.8888888888888888, \"#fdca26\"], [1.0, \"#f0f921\"]], \"type\": \"histogram2dcontour\"}], \"mesh3d\": [{\"colorbar\": {\"outlinewidth\": 0, \"ticks\": \"\"}, \"type\": \"mesh3d\"}], \"parcoords\": [{\"line\": {\"colorbar\": {\"outlinewidth\": 0, \"ticks\": \"\"}}, \"type\": \"parcoords\"}], \"pie\": [{\"automargin\": true, \"type\": \"pie\"}], \"scatter\": [{\"marker\": {\"colorbar\": {\"outlinewidth\": 0, \"ticks\": \"\"}}, \"type\": \"scatter\"}], \"scatter3d\": [{\"line\": {\"colorbar\": {\"outlinewidth\": 0, \"ticks\": \"\"}}, \"marker\": {\"colorbar\": {\"outlinewidth\": 0, \"ticks\": \"\"}}, \"type\": \"scatter3d\"}], \"scattercarpet\": [{\"marker\": {\"colorbar\": {\"outlinewidth\": 0, \"ticks\": \"\"}}, \"type\": \"scattercarpet\"}], \"scattergeo\": [{\"marker\": {\"colorbar\": {\"outlinewidth\": 0, \"ticks\": \"\"}}, \"type\": \"scattergeo\"}], \"scattergl\": [{\"marker\": {\"colorbar\": {\"outlinewidth\": 0, \"ticks\": \"\"}}, \"type\": \"scattergl\"}], \"scattermapbox\": [{\"marker\": {\"colorbar\": {\"outlinewidth\": 0, \"ticks\": \"\"}}, \"type\": \"scattermapbox\"}], \"scatterpolar\": [{\"marker\": {\"colorbar\": {\"outlinewidth\": 0, \"ticks\": \"\"}}, \"type\": \"scatterpolar\"}], \"scatterpolargl\": [{\"marker\": {\"colorbar\": {\"outlinewidth\": 0, \"ticks\": \"\"}}, \"type\": \"scatterpolargl\"}], \"scatterternary\": [{\"marker\": {\"colorbar\": {\"outlinewidth\": 0, \"ticks\": \"\"}}, \"type\": \"scatterternary\"}], \"surface\": [{\"colorbar\": {\"outlinewidth\": 0, \"ticks\": \"\"}, \"colorscale\": [[0.0, \"#0d0887\"], [0.1111111111111111, \"#46039f\"], [0.2222222222222222, \"#7201a8\"], [0.3333333333333333, \"#9c179e\"], [0.4444444444444444, \"#bd3786\"], [0.5555555555555556, \"#d8576b\"], [0.6666666666666666, \"#ed7953\"], [0.7777777777777778, \"#fb9f3a\"], [0.8888888888888888, \"#fdca26\"], [1.0, \"#f0f921\"]], \"type\": \"surface\"}], \"table\": [{\"cells\": {\"fill\": {\"color\": \"#EBF0F8\"}, \"line\": {\"color\": \"white\"}}, \"header\": {\"fill\": {\"color\": \"#C8D4E3\"}, \"line\": {\"color\": \"white\"}}, \"type\": \"table\"}]}, \"layout\": {\"annotationdefaults\": {\"arrowcolor\": \"#2a3f5f\", \"arrowhead\": 0, \"arrowwidth\": 1}, \"autotypenumbers\": \"strict\", \"coloraxis\": {\"colorbar\": {\"outlinewidth\": 0, \"ticks\": \"\"}}, \"colorscale\": {\"diverging\": [[0, \"#8e0152\"], [0.1, \"#c51b7d\"], [0.2, \"#de77ae\"], [0.3, \"#f1b6da\"], [0.4, \"#fde0ef\"], [0.5, \"#f7f7f7\"], [0.6, \"#e6f5d0\"], [0.7, \"#b8e186\"], [0.8, \"#7fbc41\"], [0.9, \"#4d9221\"], [1, \"#276419\"]], \"sequential\": [[0.0, \"#0d0887\"], [0.1111111111111111, \"#46039f\"], [0.2222222222222222, \"#7201a8\"], [0.3333333333333333, \"#9c179e\"], [0.4444444444444444, \"#bd3786\"], [0.5555555555555556, \"#d8576b\"], [0.6666666666666666, \"#ed7953\"], [0.7777777777777778, \"#fb9f3a\"], [0.8888888888888888, \"#fdca26\"], [1.0, \"#f0f921\"]], \"sequentialminus\": [[0.0, \"#0d0887\"], [0.1111111111111111, \"#46039f\"], [0.2222222222222222, \"#7201a8\"], [0.3333333333333333, \"#9c179e\"], [0.4444444444444444, \"#bd3786\"], [0.5555555555555556, \"#d8576b\"], [0.6666666666666666, \"#ed7953\"], [0.7777777777777778, \"#fb9f3a\"], [0.8888888888888888, \"#fdca26\"], [1.0, \"#f0f921\"]]}, \"colorway\": [\"#636efa\", \"#EF553B\", \"#00cc96\", \"#ab63fa\", \"#FFA15A\", \"#19d3f3\", \"#FF6692\", \"#B6E880\", \"#FF97FF\", \"#FECB52\"], \"font\": {\"color\": \"#2a3f5f\"}, \"geo\": {\"bgcolor\": \"white\", \"lakecolor\": \"white\", \"landcolor\": \"#E5ECF6\", \"showlakes\": true, \"showland\": true, \"subunitcolor\": \"white\"}, \"hoverlabel\": {\"align\": \"left\"}, \"hovermode\": \"closest\", \"mapbox\": {\"style\": \"light\"}, \"paper_bgcolor\": \"white\", \"plot_bgcolor\": \"#E5ECF6\", \"polar\": {\"angularaxis\": {\"gridcolor\": \"white\", \"linecolor\": \"white\", \"ticks\": \"\"}, \"bgcolor\": \"#E5ECF6\", \"radialaxis\": {\"gridcolor\": \"white\", \"linecolor\": \"white\", \"ticks\": \"\"}}, \"scene\": {\"xaxis\": {\"backgroundcolor\": \"#E5ECF6\", \"gridcolor\": \"white\", \"gridwidth\": 2, \"linecolor\": \"white\", \"showbackground\": true, \"ticks\": \"\", \"zerolinecolor\": \"white\"}, \"yaxis\": {\"backgroundcolor\": \"#E5ECF6\", \"gridcolor\": \"white\", \"gridwidth\": 2, \"linecolor\": \"white\", \"showbackground\": true, \"ticks\": \"\", \"zerolinecolor\": \"white\"}, \"zaxis\": {\"backgroundcolor\": \"#E5ECF6\", \"gridcolor\": \"white\", \"gridwidth\": 2, \"linecolor\": \"white\", \"showbackground\": true, \"ticks\": \"\", \"zerolinecolor\": \"white\"}}, \"shapedefaults\": {\"line\": {\"color\": \"#2a3f5f\"}}, \"ternary\": {\"aaxis\": {\"gridcolor\": \"white\", \"linecolor\": \"white\", \"ticks\": \"\"}, \"baxis\": {\"gridcolor\": \"white\", \"linecolor\": \"white\", \"ticks\": \"\"}, \"bgcolor\": \"#E5ECF6\", \"caxis\": {\"gridcolor\": \"white\", \"linecolor\": \"white\", \"ticks\": \"\"}}, \"title\": {\"x\": 0.05}, \"xaxis\": {\"automargin\": true, \"gridcolor\": \"white\", \"linecolor\": \"white\", \"ticks\": \"\", \"title\": {\"standoff\": 15}, \"zerolinecolor\": \"white\", \"zerolinewidth\": 2}, \"yaxis\": {\"automargin\": true, \"gridcolor\": \"white\", \"linecolor\": \"white\", \"ticks\": \"\", \"title\": {\"standoff\": 15}, \"zerolinecolor\": \"white\", \"zerolinewidth\": 2}}}},                        {\"responsive\": true}                    ).then(function(){\n",
       "                            \n",
       "var gd = document.getElementById('c983ae6a-5793-43a0-82a0-e6cf1fbef54e');\n",
       "var x = new MutationObserver(function (mutations, observer) {{\n",
       "        var display = window.getComputedStyle(gd).display;\n",
       "        if (!display || display === 'none') {{\n",
       "            console.log([gd, 'removed!']);\n",
       "            Plotly.purge(gd);\n",
       "            observer.disconnect();\n",
       "        }}\n",
       "}});\n",
       "\n",
       "// Listen for the removal of the full notebook cells\n",
       "var notebookContainer = gd.closest('#notebook-container');\n",
       "if (notebookContainer) {{\n",
       "    x.observe(notebookContainer, {childList: true});\n",
       "}}\n",
       "\n",
       "// Listen for the clearing of the current output cell\n",
       "var outputEl = gd.closest('.output');\n",
       "if (outputEl) {{\n",
       "    x.observe(outputEl, {childList: true});\n",
       "}}\n",
       "\n",
       "                        })                };                });            </script>        </div>"
      ]
     },
     "metadata": {},
     "output_type": "display_data"
    },
    {
     "name": "stdout",
     "output_type": "stream",
     "text": [
      "    Time    value   bdiff    fdiff  peak      abs  norm_values\n",
      "3    240   -981.0  -146.0   -175.0  True    981.0     0.029819\n",
      "5    296 -14462.0 -2665.0   -452.0  True  14462.0     0.441277\n",
      "7    360 -32768.0     0.0  -2016.0  True  32768.0     1.000000\n",
      "9    448 -32768.0     0.0 -19799.0  True  32768.0     1.000000\n",
      "11   516 -32768.0     0.0 -19022.0  True  32768.0     1.000000\n"
     ]
    },
    {
     "data": {
      "text/html": [
       "<div>\n",
       "<style scoped>\n",
       "    .dataframe tbody tr th:only-of-type {\n",
       "        vertical-align: middle;\n",
       "    }\n",
       "\n",
       "    .dataframe tbody tr th {\n",
       "        vertical-align: top;\n",
       "    }\n",
       "\n",
       "    .dataframe thead th {\n",
       "        text-align: right;\n",
       "    }\n",
       "</style>\n",
       "<table border=\"1\" class=\"dataframe\">\n",
       "  <thead>\n",
       "    <tr style=\"text-align: right;\">\n",
       "      <th></th>\n",
       "      <th>ArrivalTime1(µs)</th>\n",
       "      <th>Amplitude1(float)</th>\n",
       "      <th>ArrivalTime2(µs)</th>\n",
       "      <th>Amplitude2(float)</th>\n",
       "      <th>ArrivalTime3(µs)</th>\n",
       "      <th>Amplitude3(float)</th>\n",
       "    </tr>\n",
       "  </thead>\n",
       "  <tbody>\n",
       "    <tr>\n",
       "      <th>0</th>\n",
       "      <td>224</td>\n",
       "      <td>468.0</td>\n",
       "      <td>240</td>\n",
       "      <td>-981.0</td>\n",
       "      <td>272</td>\n",
       "      <td>4379.0</td>\n",
       "    </tr>\n",
       "  </tbody>\n",
       "</table>\n",
       "</div>"
      ],
      "text/plain": [
       "   ArrivalTime1(µs)  Amplitude1(float)  ArrivalTime2(µs)  Amplitude2(float)  \\\n",
       "0               224              468.0               240             -981.0   \n",
       "\n",
       "   ArrivalTime3(µs)  Amplitude3(float)  \n",
       "0               272             4379.0  "
      ]
     },
     "execution_count": 130,
     "metadata": {},
     "output_type": "execute_result"
    }
   ],
   "source": [
    "# find the inflextion point\n",
    "\n",
    "# row = np.random.randint(data.shape[0])\n",
    "row = data[data[\"Depth\"]==8.68].index[0]\n",
    "\n",
    "values = data.iloc[row, 1:]\n",
    "depth = data.iloc[row,0]\n",
    "print(\"row number:\",row)\n",
    "print(\"depth:\",depth)\n",
    "\n",
    "df = pd.DataFrame({\"value\": values,                      \n",
    "                   \"bdiff\": values.diff(1),\n",
    "                   \"fdiff\": values.diff(-1)\n",
    "                  })\n",
    "\n",
    "df = df.reset_index()\n",
    "df.rename(columns={\"index\":\"Time\"}, inplace=True)\n",
    "df[\"Time\"] = df[\"Time\"].astype(int)\n",
    "df = df.sort_values(by=\"Time\")\n",
    "\n",
    "## identify peak\n",
    "df[\"peak\"] = ((df[\"bdiff\"]>0) & (df[\"fdiff\"]>=0)) | ((df[\"bdiff\"]<=0) & (df[\"fdiff\"]<0))\n",
    "df[\"abs\"] = np.abs(df[\"value\"])\n",
    "\n",
    "scaler = MinMaxScaler()\n",
    "df[\"norm_values\"] = scaler.fit_transform(df[\"abs\"].values.reshape(-1,1))\n",
    "\n",
    "df_peaks = df[df[\"peak\"]].reset_index().drop(\"index\", axis=1).copy()\n",
    "\n",
    "df_results = df_peaks[(df_peaks[\"norm_values\"]>0.02) & (df_peaks[\"value\"]<0)].head()\n",
    "\n",
    "second_peak = df_results.iloc[0,0:2]\n",
    "peak2_index = df_peaks[df_peaks[\"Time\"]==second_peak[0]].index[0]\n",
    "\n",
    "if peak2_index == 0:\n",
    "    second_peak = df_results.iloc[1,0:2]\n",
    "    peak2_index = df_peaks[df_peaks[\"Time\"]==second_peak[0]].index[0]\n",
    "    \n",
    "first_peak = df_peaks.iloc[peak2_index-1,:2]\n",
    "third_peak = df_peaks.iloc[peak2_index+1,:2]\n",
    "\n",
    "\n",
    "fig = plot_graph(df,df_peaks, FAT_value=second_peak)\n",
    "fig.show()\n",
    "\n",
    "print(df_results.head())\n",
    "\n",
    "results = np.hstack((first_peak, second_peak, third_peak))\n",
    "columns = [\"ArrivalTime1(µs)\", \"Amplitude1(float)\", \"ArrivalTime2(µs)\", \"Amplitude2(float)\", \"ArrivalTime3(µs)\", \"Amplitude3(float)\"]\n",
    "x = pd.DataFrame([pd.Series(results)])\n",
    "x.columns = columns\n",
    "x\n",
    "\n",
    "# df_results.head()"
   ]
  },
  {
   "cell_type": "code",
   "execution_count": 123,
   "id": "7c933e26",
   "metadata": {},
   "outputs": [
    {
     "data": {
      "text/plain": [
       "Time       292\n",
       "value   -32768\n",
       "Name: 6, dtype: object"
      ]
     },
     "execution_count": 123,
     "metadata": {},
     "output_type": "execute_result"
    }
   ],
   "source": [
    "df_peaks.iloc[peak2_index-1,:2]"
   ]
  },
  {
   "cell_type": "code",
   "execution_count": 115,
   "id": "bf0e8f6f",
   "metadata": {},
   "outputs": [
    {
     "data": {
      "text/html": [
       "<div>\n",
       "<style scoped>\n",
       "    .dataframe tbody tr th:only-of-type {\n",
       "        vertical-align: middle;\n",
       "    }\n",
       "\n",
       "    .dataframe tbody tr th {\n",
       "        vertical-align: top;\n",
       "    }\n",
       "\n",
       "    .dataframe thead th {\n",
       "        text-align: right;\n",
       "    }\n",
       "</style>\n",
       "<table border=\"1\" class=\"dataframe\">\n",
       "  <thead>\n",
       "    <tr style=\"text-align: right;\">\n",
       "      <th></th>\n",
       "      <th>Time</th>\n",
       "      <th>value</th>\n",
       "      <th>bdiff</th>\n",
       "      <th>fdiff</th>\n",
       "      <th>peak</th>\n",
       "      <th>abs</th>\n",
       "      <th>norm_values</th>\n",
       "    </tr>\n",
       "  </thead>\n",
       "  <tbody>\n",
       "    <tr>\n",
       "      <th>0</th>\n",
       "      <td>168</td>\n",
       "      <td>-723.0</td>\n",
       "      <td>-8.0</td>\n",
       "      <td>-525.0</td>\n",
       "      <td>True</td>\n",
       "      <td>723.0</td>\n",
       "      <td>0.021048</td>\n",
       "    </tr>\n",
       "    <tr>\n",
       "      <th>3</th>\n",
       "      <td>224</td>\n",
       "      <td>1248.0</td>\n",
       "      <td>376.0</td>\n",
       "      <td>-2151.0</td>\n",
       "      <td>True</td>\n",
       "      <td>1248.0</td>\n",
       "      <td>0.037087</td>\n",
       "    </tr>\n",
       "    <tr>\n",
       "      <th>4</th>\n",
       "      <td>244</td>\n",
       "      <td>-3399.0</td>\n",
       "      <td>-20.0</td>\n",
       "      <td>-8101.0</td>\n",
       "      <td>True</td>\n",
       "      <td>3399.0</td>\n",
       "      <td>0.102798</td>\n",
       "    </tr>\n",
       "    <tr>\n",
       "      <th>5</th>\n",
       "      <td>268</td>\n",
       "      <td>11500.0</td>\n",
       "      <td>2399.0</td>\n",
       "      <td>-21268.0</td>\n",
       "      <td>True</td>\n",
       "      <td>11500.0</td>\n",
       "      <td>0.350278</td>\n",
       "    </tr>\n",
       "    <tr>\n",
       "      <th>6</th>\n",
       "      <td>292</td>\n",
       "      <td>-32768.0</td>\n",
       "      <td>0.0</td>\n",
       "      <td>1.0</td>\n",
       "      <td>True</td>\n",
       "      <td>32768.0</td>\n",
       "      <td>1.000000</td>\n",
       "    </tr>\n",
       "    <tr>\n",
       "      <th>7</th>\n",
       "      <td>312</td>\n",
       "      <td>32767.0</td>\n",
       "      <td>2299.0</td>\n",
       "      <td>-1.0</td>\n",
       "      <td>True</td>\n",
       "      <td>32767.0</td>\n",
       "      <td>0.999969</td>\n",
       "    </tr>\n",
       "    <tr>\n",
       "      <th>8</th>\n",
       "      <td>352</td>\n",
       "      <td>-32768.0</td>\n",
       "      <td>0.0</td>\n",
       "      <td>1.0</td>\n",
       "      <td>True</td>\n",
       "      <td>32768.0</td>\n",
       "      <td>1.000000</td>\n",
       "    </tr>\n",
       "    <tr>\n",
       "      <th>9</th>\n",
       "      <td>368</td>\n",
       "      <td>32767.0</td>\n",
       "      <td>4714.0</td>\n",
       "      <td>7112.0</td>\n",
       "      <td>True</td>\n",
       "      <td>32767.0</td>\n",
       "      <td>0.999969</td>\n",
       "    </tr>\n",
       "    <tr>\n",
       "      <th>10</th>\n",
       "      <td>392</td>\n",
       "      <td>25655.0</td>\n",
       "      <td>-2269.0</td>\n",
       "      <td>-1824.0</td>\n",
       "      <td>True</td>\n",
       "      <td>25655.0</td>\n",
       "      <td>0.782703</td>\n",
       "    </tr>\n",
       "    <tr>\n",
       "      <th>11</th>\n",
       "      <td>396</td>\n",
       "      <td>27479.0</td>\n",
       "      <td>1824.0</td>\n",
       "      <td>-5289.0</td>\n",
       "      <td>True</td>\n",
       "      <td>27479.0</td>\n",
       "      <td>0.838425</td>\n",
       "    </tr>\n",
       "  </tbody>\n",
       "</table>\n",
       "</div>"
      ],
      "text/plain": [
       "    Time    value   bdiff    fdiff  peak      abs  norm_values\n",
       "0    168   -723.0    -8.0   -525.0  True    723.0     0.021048\n",
       "3    224   1248.0   376.0  -2151.0  True   1248.0     0.037087\n",
       "4    244  -3399.0   -20.0  -8101.0  True   3399.0     0.102798\n",
       "5    268  11500.0  2399.0 -21268.0  True  11500.0     0.350278\n",
       "6    292 -32768.0     0.0      1.0  True  32768.0     1.000000\n",
       "7    312  32767.0  2299.0     -1.0  True  32767.0     0.999969\n",
       "8    352 -32768.0     0.0      1.0  True  32768.0     1.000000\n",
       "9    368  32767.0  4714.0   7112.0  True  32767.0     0.999969\n",
       "10   392  25655.0 -2269.0  -1824.0  True  25655.0     0.782703\n",
       "11   396  27479.0  1824.0  -5289.0  True  27479.0     0.838425"
      ]
     },
     "execution_count": 115,
     "metadata": {},
     "output_type": "execute_result"
    }
   ],
   "source": [
    "df_peaks.iloc[0:10,:]"
   ]
  },
  {
   "cell_type": "code",
   "execution_count": 81,
   "id": "d75a5f4d",
   "metadata": {},
   "outputs": [],
   "source": [
    "def FAT(series, threshold=0.05):\n",
    "    \n",
    "    '''\n",
    "    Returns the FAT (First Arrival Time) of a given soniclog reading\n",
    "    \n",
    "    Input: \n",
    "    --------------\n",
    "    1. Takes a pandas series as input,\n",
    "    2. limit is the threshold ratio for excluding the low amplitudes\n",
    "    \n",
    "    returns the time and amplitude for the first three peaks\n",
    "    '''\n",
    "    if type(series) == pd.Series:\n",
    "        # 1. Convert series\n",
    "        df = pd.DataFrame({\"value\": series,                      \n",
    "                   \"bdiff\": series.diff(1),\n",
    "                   \"fdiff\": series.diff(-1)\n",
    "                  })\n",
    "\n",
    "        df = df.reset_index()\n",
    "        df.rename(columns={\"index\":\"Time\"}, inplace=True)\n",
    "        df[\"Time\"] = df[\"Time\"].astype(int)\n",
    "        df = df.sort_values(by=\"Time\")\n",
    "        df[\"peak\"] = ((df[\"bdiff\"]>0) & (df[\"fdiff\"]>=0)) | ((df[\"bdiff\"]<=0) & (df[\"fdiff\"]<0))\n",
    "        df[\"abs\"] = np.abs(df[\"value\"])\n",
    "\n",
    "        scaler = MinMaxScaler()\n",
    "        df[\"norm_values\"] = scaler.fit_transform(df[\"abs\"].values.reshape(-1,1))\n",
    "        \n",
    "        df_peaks = df[df[\"peak\"]].reset_index().drop(\"index\", axis=1).copy()\n",
    "        \n",
    "        ## find the first negative peak that is the second peak\n",
    "        df_results = df_peaks[(df_peaks[\"norm_values\"]>threshold) & (df_peaks[\"value\"]<0)]\n",
    "        second_peak = df_results.iloc[0,0:2]\n",
    "\n",
    "        ## accordingly find the first and the thrid peaks\n",
    "        peak2_index = df_peaks[df_peaks[\"Time\"]==second_peak[0]].index[0]\n",
    "        first_peak = df_peaks.iloc[peak2_index-1,:2]\n",
    "        third_peak = df_peaks.iloc[peak2_index+1,:2]\n",
    "        \n",
    "        results = np.hstack((first_peak, second_peak, third_peak))\n",
    "        return results\n",
    "    \n",
    "    else:\n",
    "        print(\"Values must be pandas series object\")\n",
    "        return None"
   ]
  }
 ],
 "metadata": {
  "kernelspec": {
   "display_name": "Python 3",
   "language": "python",
   "name": "python3"
  },
  "language_info": {
   "codemirror_mode": {
    "name": "ipython",
    "version": 3
   },
   "file_extension": ".py",
   "mimetype": "text/x-python",
   "name": "python",
   "nbconvert_exporter": "python",
   "pygments_lexer": "ipython3",
   "version": "3.6.13"
  },
  "toc": {
   "base_numbering": 1,
   "nav_menu": {},
   "number_sections": true,
   "sideBar": true,
   "skip_h1_title": false,
   "title_cell": "Table of Contents",
   "title_sidebar": "Contents",
   "toc_cell": false,
   "toc_position": {},
   "toc_section_display": true,
   "toc_window_display": false
  }
 },
 "nbformat": 4,
 "nbformat_minor": 5
}
